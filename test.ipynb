{
 "cells": [
  {
   "cell_type": "code",
   "execution_count": 1,
   "id": "a5f11d5b",
   "metadata": {},
   "outputs": [
    {
     "name": "stderr",
     "output_type": "stream",
     "text": [
      "2025-10-14 20:18:52,222[INFO] Use NumPy as backend\n",
      "2025-10-14 20:18:52,224[INFO] numpy random seed is 9012\n",
      "2025-10-14 20:18:52,225[INFO] random seed is 1092\n",
      "2025-10-14 20:18:52,251[INFO] Git Commit Hash: c080e702a6ee0a055fc180ecc6ad885b0368b1c1\n",
      "2025-10-14 20:18:52,252[INFO] use 64 bits\n"
     ]
    },
    {
     "data": {
      "text/plain": [
       "[Op('sigma_z', ['spin'], 0.0),\n",
       " Op('sigma_x', ['spin'], 1.0),\n",
       " Op('b^\\\\dagger b', ['boson', 'boson'], 1.0),\n",
       " Op('sigma_z b^\\\\dagger+b', ['spin', 'boson'], 0.5)]"
      ]
     },
     "execution_count": 1,
     "metadata": {},
     "output_type": "execute_result"
    }
   ],
   "source": [
    "from renormalizer import Op, BasisHalfSpin, BasisSHO, Model\n",
    "\n",
    "epsilon = 0\n",
    "delta = 1\n",
    "omega = 1\n",
    "g = 0.5\n",
    "\n",
    "ham_terms = [\n",
    "    Op(\"sigma_z\", \"spin\", epsilon),\n",
    "    Op(\"sigma_x\", \"spin\", delta),\n",
    "    Op(r\"b^\\dagger b\", \"boson\", omega),\n",
    "    Op(\"sigma_z\", \"spin\", g) * Op(r\"b^\\dagger+b\", \"boson\"),\n",
    "]\n",
    "ham_terms"
   ]
  }
 ],
 "metadata": {
  "kernelspec": {
   "display_name": "renormalizer",
   "language": "python",
   "name": "python3"
  },
  "language_info": {
   "name": "python",
   "version": "3.8.20"
  }
 },
 "nbformat": 4,
 "nbformat_minor": 5
}
